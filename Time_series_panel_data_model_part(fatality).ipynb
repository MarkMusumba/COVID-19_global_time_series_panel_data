{
 "cells": [
  {
   "cell_type": "markdown",
   "metadata": {},
   "source": [
    "# Import packages "
   ]
  },
  {
   "cell_type": "code",
   "execution_count": 36,
   "metadata": {
    "scrolled": true
   },
   "outputs": [],
   "source": [
    "import pandas as pd\n",
    "import numpy as np\n",
    "import matplotlib.pyplot as plt\n",
    "import seaborn as sns\n",
    "sns.set()\n",
    "from keras.models import Sequential\n",
    "from keras.layers import Dense\n",
    "from keras.layers import LSTM\n",
    "from keras.layers import Dropout\n",
    "from keras.callbacks import EarlyStopping\n",
    "import datetime as dt\n",
    "from sklearn.preprocessing import MinMaxScaler\n",
    "from sklearn.preprocessing import LabelEncoder\n"
   ]
  },
  {
   "cell_type": "markdown",
   "metadata": {},
   "source": [
    "# Load the data"
   ]
  },
  {
   "cell_type": "code",
   "execution_count": 16,
   "metadata": {},
   "outputs": [],
   "source": [
    "df=pd.read_csv('new_df.csv').drop(columns='Unnamed: 0')"
   ]
  },
  {
   "cell_type": "code",
   "execution_count": 17,
   "metadata": {},
   "outputs": [
    {
     "data": {
      "text/html": [
       "<div>\n",
       "<style scoped>\n",
       "    .dataframe tbody tr th:only-of-type {\n",
       "        vertical-align: middle;\n",
       "    }\n",
       "\n",
       "    .dataframe tbody tr th {\n",
       "        vertical-align: top;\n",
       "    }\n",
       "\n",
       "    .dataframe thead th {\n",
       "        text-align: right;\n",
       "    }\n",
       "</style>\n",
       "<table border=\"1\" class=\"dataframe\">\n",
       "  <thead>\n",
       "    <tr style=\"text-align: right;\">\n",
       "      <th></th>\n",
       "      <th>Country_Region</th>\n",
       "      <th>Date</th>\n",
       "      <th>month</th>\n",
       "      <th>day</th>\n",
       "      <th>Population</th>\n",
       "      <th>Weight</th>\n",
       "      <th>Target</th>\n",
       "      <th>TargetValue</th>\n",
       "    </tr>\n",
       "  </thead>\n",
       "  <tbody>\n",
       "    <tr>\n",
       "      <th>0</th>\n",
       "      <td>Afghanistan</td>\n",
       "      <td>2020-01-23</td>\n",
       "      <td>1</td>\n",
       "      <td>23</td>\n",
       "      <td>27657145</td>\n",
       "      <td>0.058359</td>\n",
       "      <td>ConfirmedCases</td>\n",
       "      <td>0.0</td>\n",
       "    </tr>\n",
       "    <tr>\n",
       "      <th>1</th>\n",
       "      <td>Afghanistan</td>\n",
       "      <td>2020-01-23</td>\n",
       "      <td>1</td>\n",
       "      <td>23</td>\n",
       "      <td>27657145</td>\n",
       "      <td>0.583587</td>\n",
       "      <td>Fatalities</td>\n",
       "      <td>0.0</td>\n",
       "    </tr>\n",
       "    <tr>\n",
       "      <th>2</th>\n",
       "      <td>Afghanistan</td>\n",
       "      <td>2020-01-24</td>\n",
       "      <td>1</td>\n",
       "      <td>24</td>\n",
       "      <td>27657145</td>\n",
       "      <td>0.058359</td>\n",
       "      <td>ConfirmedCases</td>\n",
       "      <td>0.0</td>\n",
       "    </tr>\n",
       "    <tr>\n",
       "      <th>3</th>\n",
       "      <td>Afghanistan</td>\n",
       "      <td>2020-01-24</td>\n",
       "      <td>1</td>\n",
       "      <td>24</td>\n",
       "      <td>27657145</td>\n",
       "      <td>0.583587</td>\n",
       "      <td>Fatalities</td>\n",
       "      <td>0.0</td>\n",
       "    </tr>\n",
       "    <tr>\n",
       "      <th>4</th>\n",
       "      <td>Afghanistan</td>\n",
       "      <td>2020-01-25</td>\n",
       "      <td>1</td>\n",
       "      <td>25</td>\n",
       "      <td>27657145</td>\n",
       "      <td>0.058359</td>\n",
       "      <td>ConfirmedCases</td>\n",
       "      <td>0.0</td>\n",
       "    </tr>\n",
       "  </tbody>\n",
       "</table>\n",
       "</div>"
      ],
      "text/plain": [
       "  Country_Region        Date  month  day  Population    Weight  \\\n",
       "0    Afghanistan  2020-01-23      1   23    27657145  0.058359   \n",
       "1    Afghanistan  2020-01-23      1   23    27657145  0.583587   \n",
       "2    Afghanistan  2020-01-24      1   24    27657145  0.058359   \n",
       "3    Afghanistan  2020-01-24      1   24    27657145  0.583587   \n",
       "4    Afghanistan  2020-01-25      1   25    27657145  0.058359   \n",
       "\n",
       "           Target  TargetValue  \n",
       "0  ConfirmedCases          0.0  \n",
       "1      Fatalities          0.0  \n",
       "2  ConfirmedCases          0.0  \n",
       "3      Fatalities          0.0  \n",
       "4  ConfirmedCases          0.0  "
      ]
     },
     "execution_count": 17,
     "metadata": {},
     "output_type": "execute_result"
    }
   ],
   "source": [
    "df.head()"
   ]
  },
  {
   "cell_type": "code",
   "execution_count": 159,
   "metadata": {
    "scrolled": false
   },
   "outputs": [
    {
     "data": {
      "text/html": [
       "<div>\n",
       "<style scoped>\n",
       "    .dataframe tbody tr th:only-of-type {\n",
       "        vertical-align: middle;\n",
       "    }\n",
       "\n",
       "    .dataframe tbody tr th {\n",
       "        vertical-align: top;\n",
       "    }\n",
       "\n",
       "    .dataframe thead th {\n",
       "        text-align: right;\n",
       "    }\n",
       "</style>\n",
       "<table border=\"1\" class=\"dataframe\">\n",
       "  <thead>\n",
       "    <tr style=\"text-align: right;\">\n",
       "      <th></th>\n",
       "      <th>Country_Region</th>\n",
       "      <th>Date</th>\n",
       "      <th>month</th>\n",
       "      <th>day</th>\n",
       "      <th>Population</th>\n",
       "      <th>Weight</th>\n",
       "      <th>TargetValue</th>\n",
       "    </tr>\n",
       "  </thead>\n",
       "  <tbody>\n",
       "    <tr>\n",
       "      <th>25</th>\n",
       "      <td>Afghanistan</td>\n",
       "      <td>2020-02-04</td>\n",
       "      <td>2</td>\n",
       "      <td>4</td>\n",
       "      <td>27657145</td>\n",
       "      <td>0.583587</td>\n",
       "      <td>0.0</td>\n",
       "    </tr>\n",
       "    <tr>\n",
       "      <th>273</th>\n",
       "      <td>Albania</td>\n",
       "      <td>2020-02-04</td>\n",
       "      <td>2</td>\n",
       "      <td>4</td>\n",
       "      <td>2886026</td>\n",
       "      <td>0.672251</td>\n",
       "      <td>0.0</td>\n",
       "    </tr>\n",
       "    <tr>\n",
       "      <th>521</th>\n",
       "      <td>Algeria</td>\n",
       "      <td>2020-02-04</td>\n",
       "      <td>2</td>\n",
       "      <td>4</td>\n",
       "      <td>40400000</td>\n",
       "      <td>0.570961</td>\n",
       "      <td>0.0</td>\n",
       "    </tr>\n",
       "    <tr>\n",
       "      <th>769</th>\n",
       "      <td>Andorra</td>\n",
       "      <td>2020-02-04</td>\n",
       "      <td>2</td>\n",
       "      <td>4</td>\n",
       "      <td>78014</td>\n",
       "      <td>0.887732</td>\n",
       "      <td>0.0</td>\n",
       "    </tr>\n",
       "    <tr>\n",
       "      <th>1017</th>\n",
       "      <td>Angola</td>\n",
       "      <td>2020-02-04</td>\n",
       "      <td>2</td>\n",
       "      <td>4</td>\n",
       "      <td>25868000</td>\n",
       "      <td>0.585874</td>\n",
       "      <td>0.0</td>\n",
       "    </tr>\n",
       "    <tr>\n",
       "      <th>...</th>\n",
       "      <td>...</td>\n",
       "      <td>...</td>\n",
       "      <td>...</td>\n",
       "      <td>...</td>\n",
       "      <td>...</td>\n",
       "      <td>...</td>\n",
       "      <td>...</td>\n",
       "    </tr>\n",
       "    <tr>\n",
       "      <th>845209</th>\n",
       "      <td>US</td>\n",
       "      <td>2020-02-04</td>\n",
       "      <td>2</td>\n",
       "      <td>4</td>\n",
       "      <td>136034</td>\n",
       "      <td>0.845976</td>\n",
       "      <td>0.0</td>\n",
       "    </tr>\n",
       "    <tr>\n",
       "      <th>845457</th>\n",
       "      <td>US</td>\n",
       "      <td>2020-02-04</td>\n",
       "      <td>2</td>\n",
       "      <td>4</td>\n",
       "      <td>404198</td>\n",
       "      <td>0.774614</td>\n",
       "      <td>0.0</td>\n",
       "    </tr>\n",
       "    <tr>\n",
       "      <th>845705</th>\n",
       "      <td>US</td>\n",
       "      <td>2020-02-04</td>\n",
       "      <td>2</td>\n",
       "      <td>4</td>\n",
       "      <td>50990</td>\n",
       "      <td>0.922560</td>\n",
       "      <td>0.0</td>\n",
       "    </tr>\n",
       "    <tr>\n",
       "      <th>845953</th>\n",
       "      <td>US</td>\n",
       "      <td>2020-02-04</td>\n",
       "      <td>2</td>\n",
       "      <td>4</td>\n",
       "      <td>24443</td>\n",
       "      <td>0.989693</td>\n",
       "      <td>0.0</td>\n",
       "    </tr>\n",
       "    <tr>\n",
       "      <th>846201</th>\n",
       "      <td>US</td>\n",
       "      <td>2020-02-04</td>\n",
       "      <td>2</td>\n",
       "      <td>4</td>\n",
       "      <td>171907</td>\n",
       "      <td>0.829551</td>\n",
       "      <td>0.0</td>\n",
       "    </tr>\n",
       "  </tbody>\n",
       "</table>\n",
       "<p>3413 rows × 7 columns</p>\n",
       "</div>"
      ],
      "text/plain": [
       "       Country_Region        Date  month  day  Population    Weight  \\\n",
       "25        Afghanistan  2020-02-04      2    4    27657145  0.583587   \n",
       "273           Albania  2020-02-04      2    4     2886026  0.672251   \n",
       "521           Algeria  2020-02-04      2    4    40400000  0.570961   \n",
       "769           Andorra  2020-02-04      2    4       78014  0.887732   \n",
       "1017           Angola  2020-02-04      2    4    25868000  0.585874   \n",
       "...               ...         ...    ...  ...         ...       ...   \n",
       "845209             US  2020-02-04      2    4      136034  0.845976   \n",
       "845457             US  2020-02-04      2    4      404198  0.774614   \n",
       "845705             US  2020-02-04      2    4       50990  0.922560   \n",
       "845953             US  2020-02-04      2    4       24443  0.989693   \n",
       "846201             US  2020-02-04      2    4      171907  0.829551   \n",
       "\n",
       "        TargetValue  \n",
       "25              0.0  \n",
       "273             0.0  \n",
       "521             0.0  \n",
       "769             0.0  \n",
       "1017            0.0  \n",
       "...             ...  \n",
       "845209          0.0  \n",
       "845457          0.0  \n",
       "845705          0.0  \n",
       "845953          0.0  \n",
       "846201          0.0  \n",
       "\n",
       "[3413 rows x 7 columns]"
      ]
     },
     "execution_count": 159,
     "metadata": {},
     "output_type": "execute_result"
    }
   ],
   "source": [
    "# obtian fatality cases data \n",
    "fatality=df[df.Target=='Fatalities'].drop(columns='Target')\n",
    "fatality[fatality.Date=='2020-02-04'].head(-50)"
   ]
  },
  {
   "cell_type": "markdown",
   "metadata": {},
   "source": [
    "# Data Standardization"
   ]
  },
  {
   "cell_type": "code",
   "execution_count": 19,
   "metadata": {},
   "outputs": [],
   "source": [
    "# normalized the data \n",
    "scaler = MinMaxScaler(feature_range=(0, 1))\n",
    "scaled = scaler.fit_transform(fatality.drop(columns=['TargetValue','Country_Region','Date']))"
   ]
  },
  {
   "cell_type": "code",
   "execution_count": 46,
   "metadata": {},
   "outputs": [],
   "source": [
    "# create datefrane fir scaled data\n",
    "scaled_df=pd.DataFrame(data=scaled,columns=fatality.drop(columns=['TargetValue','Country_Region','Date']).columns)"
   ]
  },
  {
   "cell_type": "code",
   "execution_count": 21,
   "metadata": {},
   "outputs": [
    {
     "data": {
      "text/html": [
       "<div>\n",
       "<style scoped>\n",
       "    .dataframe tbody tr th:only-of-type {\n",
       "        vertical-align: middle;\n",
       "    }\n",
       "\n",
       "    .dataframe tbody tr th {\n",
       "        vertical-align: top;\n",
       "    }\n",
       "\n",
       "    .dataframe thead th {\n",
       "        text-align: right;\n",
       "    }\n",
       "</style>\n",
       "<table border=\"1\" class=\"dataframe\">\n",
       "  <thead>\n",
       "    <tr style=\"text-align: right;\">\n",
       "      <th></th>\n",
       "      <th>Country_Region</th>\n",
       "      <th>Date</th>\n",
       "      <th>month</th>\n",
       "      <th>day</th>\n",
       "      <th>Population</th>\n",
       "      <th>Weight</th>\n",
       "      <th>TargetValue</th>\n",
       "      <th>country</th>\n",
       "    </tr>\n",
       "  </thead>\n",
       "  <tbody>\n",
       "    <tr>\n",
       "      <th>1</th>\n",
       "      <td>Afghanistan</td>\n",
       "      <td>2020-01-23</td>\n",
       "      <td>0.0</td>\n",
       "      <td>0.733333</td>\n",
       "      <td>0.019815</td>\n",
       "      <td>0.0616</td>\n",
       "      <td>0.0</td>\n",
       "      <td>Afghanistan</td>\n",
       "    </tr>\n",
       "    <tr>\n",
       "      <th>3</th>\n",
       "      <td>Afghanistan</td>\n",
       "      <td>2020-01-24</td>\n",
       "      <td>0.0</td>\n",
       "      <td>0.766667</td>\n",
       "      <td>0.019815</td>\n",
       "      <td>0.0616</td>\n",
       "      <td>0.0</td>\n",
       "      <td>Afghanistan</td>\n",
       "    </tr>\n",
       "    <tr>\n",
       "      <th>5</th>\n",
       "      <td>Afghanistan</td>\n",
       "      <td>2020-01-25</td>\n",
       "      <td>0.0</td>\n",
       "      <td>0.800000</td>\n",
       "      <td>0.019815</td>\n",
       "      <td>0.0616</td>\n",
       "      <td>0.0</td>\n",
       "      <td>Afghanistan</td>\n",
       "    </tr>\n",
       "    <tr>\n",
       "      <th>7</th>\n",
       "      <td>Afghanistan</td>\n",
       "      <td>2020-01-26</td>\n",
       "      <td>0.0</td>\n",
       "      <td>0.833333</td>\n",
       "      <td>0.019815</td>\n",
       "      <td>0.0616</td>\n",
       "      <td>0.0</td>\n",
       "      <td>Afghanistan</td>\n",
       "    </tr>\n",
       "    <tr>\n",
       "      <th>9</th>\n",
       "      <td>Afghanistan</td>\n",
       "      <td>2020-01-27</td>\n",
       "      <td>0.0</td>\n",
       "      <td>0.866667</td>\n",
       "      <td>0.019815</td>\n",
       "      <td>0.0616</td>\n",
       "      <td>0.0</td>\n",
       "      <td>Afghanistan</td>\n",
       "    </tr>\n",
       "  </tbody>\n",
       "</table>\n",
       "</div>"
      ],
      "text/plain": [
       "  Country_Region        Date  month       day  Population  Weight  \\\n",
       "1    Afghanistan  2020-01-23    0.0  0.733333    0.019815  0.0616   \n",
       "3    Afghanistan  2020-01-24    0.0  0.766667    0.019815  0.0616   \n",
       "5    Afghanistan  2020-01-25    0.0  0.800000    0.019815  0.0616   \n",
       "7    Afghanistan  2020-01-26    0.0  0.833333    0.019815  0.0616   \n",
       "9    Afghanistan  2020-01-27    0.0  0.866667    0.019815  0.0616   \n",
       "\n",
       "   TargetValue      country  \n",
       "1          0.0  Afghanistan  \n",
       "3          0.0  Afghanistan  \n",
       "5          0.0  Afghanistan  \n",
       "7          0.0  Afghanistan  \n",
       "9          0.0  Afghanistan  "
      ]
     },
     "execution_count": 21,
     "metadata": {},
     "output_type": "execute_result"
    }
   ],
   "source": [
    "fa=fatality.copy()\n",
    "fa[scaled_df.columns]=np.array(scaled_df)\n",
    "fa['country']=list(fa.Country_Region)\n"
   ]
  },
  {
   "cell_type": "code",
   "execution_count": 22,
   "metadata": {},
   "outputs": [
    {
     "data": {
      "text/html": [
       "<div>\n",
       "<style scoped>\n",
       "    .dataframe tbody tr th:only-of-type {\n",
       "        vertical-align: middle;\n",
       "    }\n",
       "\n",
       "    .dataframe tbody tr th {\n",
       "        vertical-align: top;\n",
       "    }\n",
       "\n",
       "    .dataframe thead th {\n",
       "        text-align: right;\n",
       "    }\n",
       "</style>\n",
       "<table border=\"1\" class=\"dataframe\">\n",
       "  <thead>\n",
       "    <tr style=\"text-align: right;\">\n",
       "      <th></th>\n",
       "      <th></th>\n",
       "      <th>month</th>\n",
       "      <th>day</th>\n",
       "      <th>Population</th>\n",
       "      <th>Weight</th>\n",
       "      <th>TargetValue</th>\n",
       "      <th>country</th>\n",
       "    </tr>\n",
       "    <tr>\n",
       "      <th>Country_Region</th>\n",
       "      <th>Date</th>\n",
       "      <th></th>\n",
       "      <th></th>\n",
       "      <th></th>\n",
       "      <th></th>\n",
       "      <th></th>\n",
       "      <th></th>\n",
       "    </tr>\n",
       "  </thead>\n",
       "  <tbody>\n",
       "    <tr>\n",
       "      <th rowspan=\"5\" valign=\"top\">Afghanistan</th>\n",
       "      <th>2020-01-23</th>\n",
       "      <td>0.0</td>\n",
       "      <td>0.733333</td>\n",
       "      <td>0.019815</td>\n",
       "      <td>0.0616</td>\n",
       "      <td>0.0</td>\n",
       "      <td>Afghanistan</td>\n",
       "    </tr>\n",
       "    <tr>\n",
       "      <th>2020-01-24</th>\n",
       "      <td>0.0</td>\n",
       "      <td>0.766667</td>\n",
       "      <td>0.019815</td>\n",
       "      <td>0.0616</td>\n",
       "      <td>0.0</td>\n",
       "      <td>Afghanistan</td>\n",
       "    </tr>\n",
       "    <tr>\n",
       "      <th>2020-01-25</th>\n",
       "      <td>0.0</td>\n",
       "      <td>0.800000</td>\n",
       "      <td>0.019815</td>\n",
       "      <td>0.0616</td>\n",
       "      <td>0.0</td>\n",
       "      <td>Afghanistan</td>\n",
       "    </tr>\n",
       "    <tr>\n",
       "      <th>2020-01-26</th>\n",
       "      <td>0.0</td>\n",
       "      <td>0.833333</td>\n",
       "      <td>0.019815</td>\n",
       "      <td>0.0616</td>\n",
       "      <td>0.0</td>\n",
       "      <td>Afghanistan</td>\n",
       "    </tr>\n",
       "    <tr>\n",
       "      <th>2020-01-27</th>\n",
       "      <td>0.0</td>\n",
       "      <td>0.866667</td>\n",
       "      <td>0.019815</td>\n",
       "      <td>0.0616</td>\n",
       "      <td>0.0</td>\n",
       "      <td>Afghanistan</td>\n",
       "    </tr>\n",
       "  </tbody>\n",
       "</table>\n",
       "</div>"
      ],
      "text/plain": [
       "                           month       day  Population  Weight  TargetValue  \\\n",
       "Country_Region Date                                                           \n",
       "Afghanistan    2020-01-23    0.0  0.733333    0.019815  0.0616          0.0   \n",
       "               2020-01-24    0.0  0.766667    0.019815  0.0616          0.0   \n",
       "               2020-01-25    0.0  0.800000    0.019815  0.0616          0.0   \n",
       "               2020-01-26    0.0  0.833333    0.019815  0.0616          0.0   \n",
       "               2020-01-27    0.0  0.866667    0.019815  0.0616          0.0   \n",
       "\n",
       "                               country  \n",
       "Country_Region Date                     \n",
       "Afghanistan    2020-01-23  Afghanistan  \n",
       "               2020-01-24  Afghanistan  \n",
       "               2020-01-25  Afghanistan  \n",
       "               2020-01-26  Afghanistan  \n",
       "               2020-01-27  Afghanistan  "
      ]
     },
     "execution_count": 22,
     "metadata": {},
     "output_type": "execute_result"
    }
   ],
   "source": [
    "fa=fa.set_index(['Country_Region','Date'])\n",
    "fa.head()"
   ]
  },
  {
   "cell_type": "markdown",
   "metadata": {},
   "source": [
    "# Train Test Split"
   ]
  },
  {
   "cell_type": "code",
   "execution_count": 23,
   "metadata": {},
   "outputs": [],
   "source": [
    "def train_test_split(data):\n",
    "    size=int(len(data)*0.8)\n",
    "    # for train data will be collected from each country's data which index is from 0-size (80%)\n",
    "    x_train =data.drop(columns=['TargetValue']).iloc[0:size] \n",
    "    # for test data will be collected from each country's  data which index is from size to the end (20%)\n",
    "    x_test = data.drop(columns=['TargetValue']).iloc[size:]\n",
    "    y_train=data['TargetValue'].iloc[0:size] \n",
    "    y_test=data['TargetValue'].iloc[size:] \n",
    "    return x_train, x_test,y_train,y_test"
   ]
  },
  {
   "cell_type": "code",
   "execution_count": 24,
   "metadata": {},
   "outputs": [],
   "source": [
    "country=list(set(fa.country))\n",
    "# loop each station and collect train and test data \n",
    "X_train=[]\n",
    "X_test=[]\n",
    "Y_train=[]\n",
    "Y_test=[]\n",
    "for i in range(0,len(country)):\n",
    "    data=fa[fa['country']==country[i]]\n",
    "    x_train, x_test,y_train,y_test=train_test_split(data)\n",
    "    X_train.append(x_train)\n",
    "    X_test.append(x_test)\n",
    "    Y_train.append(y_train)\n",
    "    Y_test.append(y_test)"
   ]
  },
  {
   "cell_type": "code",
   "execution_count": 25,
   "metadata": {},
   "outputs": [],
   "source": [
    "# concat each train data from each station \n",
    "X_train=pd.concat(X_train)\n",
    "Y_train=pd.DataFrame(pd.concat(Y_train))\n",
    "# concat each test data from each station \n",
    "X_test=pd.concat(X_test)\n",
    "Y_test=pd.DataFrame(pd.concat(Y_test))"
   ]
  },
  {
   "cell_type": "code",
   "execution_count": 26,
   "metadata": {
    "scrolled": false
   },
   "outputs": [
    {
     "data": {
      "text/html": [
       "<div>\n",
       "<style scoped>\n",
       "    .dataframe tbody tr th:only-of-type {\n",
       "        vertical-align: middle;\n",
       "    }\n",
       "\n",
       "    .dataframe tbody tr th {\n",
       "        vertical-align: top;\n",
       "    }\n",
       "\n",
       "    .dataframe thead th {\n",
       "        text-align: right;\n",
       "    }\n",
       "</style>\n",
       "<table border=\"1\" class=\"dataframe\">\n",
       "  <thead>\n",
       "    <tr style=\"text-align: right;\">\n",
       "      <th></th>\n",
       "      <th></th>\n",
       "      <th>month</th>\n",
       "      <th>day</th>\n",
       "      <th>Population</th>\n",
       "      <th>Weight</th>\n",
       "      <th>country</th>\n",
       "    </tr>\n",
       "    <tr>\n",
       "      <th>Country_Region</th>\n",
       "      <th>Date</th>\n",
       "      <th></th>\n",
       "      <th></th>\n",
       "      <th></th>\n",
       "      <th></th>\n",
       "      <th></th>\n",
       "    </tr>\n",
       "  </thead>\n",
       "  <tbody>\n",
       "    <tr>\n",
       "      <th rowspan=\"2\" valign=\"top\">Vietnam</th>\n",
       "      <th>2020-01-23</th>\n",
       "      <td>0.0</td>\n",
       "      <td>0.733333</td>\n",
       "      <td>0.066415</td>\n",
       "      <td>0.039792</td>\n",
       "      <td>Vietnam</td>\n",
       "    </tr>\n",
       "    <tr>\n",
       "      <th>2020-01-24</th>\n",
       "      <td>0.0</td>\n",
       "      <td>0.766667</td>\n",
       "      <td>0.066415</td>\n",
       "      <td>0.039792</td>\n",
       "      <td>Vietnam</td>\n",
       "    </tr>\n",
       "  </tbody>\n",
       "</table>\n",
       "</div>"
      ],
      "text/plain": [
       "                           month       day  Population    Weight  country\n",
       "Country_Region Date                                                      \n",
       "Vietnam        2020-01-23    0.0  0.733333    0.066415  0.039792  Vietnam\n",
       "               2020-01-24    0.0  0.766667    0.066415  0.039792  Vietnam"
      ]
     },
     "execution_count": 26,
     "metadata": {},
     "output_type": "execute_result"
    }
   ],
   "source": [
    "# double check the train data and test data and our target \n",
    "X_train.head(2)"
   ]
  },
  {
   "cell_type": "markdown",
   "metadata": {},
   "source": [
    "# Data pre-processing"
   ]
  },
  {
   "cell_type": "code",
   "execution_count": 27,
   "metadata": {},
   "outputs": [],
   "source": [
    "# Code Source: https://machinelearningmastery.com/multivariate-time-series-forecasting-lstms-keras/\n",
    "# convert series to supervised learning\n",
    "def series_to_supervised(data, n_in=1, n_out=1, dropnan=True):\n",
    "\tn_vars = 1 if type(data) is list else data.shape[1]\n",
    "\tdf = pd.DataFrame(data)\n",
    "\tcols, names = list(), list()\n",
    "\t# input sequence (t-n, ... t-1)\n",
    "\tfor i in range(n_in, 0, -1):\n",
    "\t\tcols.append(df.shift(i))\n",
    "\t\tnames += [('var%d(t-%d)' % (j+1, i)) for j in range(n_vars)]\n",
    "\t# forecast sequence (t, t+1, ... t+n)\n",
    "\tfor i in range(0, n_out):\n",
    "\t\tcols.append(df.shift(-i))\n",
    "\t\tif i == 0:\n",
    "\t\t\tnames += [('var%d(t)' % (j+1)) for j in range(n_vars)]\n",
    "\t\telse:\n",
    "\t\t\tnames += [('var%d(t+%d)' % (j+1, i)) for j in range(n_vars)]\n",
    "\t# put it all together\n",
    "\tagg = pd.concat(cols, axis=1)\n",
    "\tagg.columns = names\n",
    "\t# drop rows with NaN values\n",
    "\tif dropnan:\n",
    "\t\tagg.dropna(inplace=True)\n",
    "\treturn agg"
   ]
  },
  {
   "cell_type": "code",
   "execution_count": 28,
   "metadata": {},
   "outputs": [],
   "source": [
    "# create the reshape function\n",
    "def reshape_data(train,test):\n",
    "    #Frame as supervised learning and drop all time t columns except PM2.5\n",
    "    reframed_train = series_to_supervised(train, 1, 1)\n",
    "    reframed_test = series_to_supervised(test, 1, 1)\n",
    "    # split into train and test sets\n",
    "    train= reframed_train.values\n",
    "    test=reframed_test.values\n",
    "    # split into input and outputs\n",
    "    train_X, y_train = train[:, :-1], train[:, -1]\n",
    "    test_X, y_test = test[:, :-1], test[:, -1]\n",
    "    # reshape input to be 3D [samples, timesteps, features]\n",
    "    x_train = train_X.reshape((train_X.shape[0], 1, train_X.shape[1]))\n",
    "    x_test = test_X.reshape((test_X.shape[0], 1, test_X.shape[1]))\n",
    "    return x_train,x_test,y_train,y_test\n"
   ]
  },
  {
   "cell_type": "code",
   "execution_count": 112,
   "metadata": {},
   "outputs": [
    {
     "data": {
      "text/plain": [
       "(85922, 6)"
      ]
     },
     "execution_count": 112,
     "metadata": {},
     "output_type": "execute_result"
    }
   ],
   "source": [
    "encoder = LabelEncoder()\n",
    "#combine x train and y train as train data \n",
    "train_data=pd.DataFrame()\n",
    "train_data[X_train.columns]=X_train\n",
    "train_data[Y_train.columns]=Y_train\n",
    "train_data['country']= encoder.fit_transform(train_data['country'])\n",
    "#combine x test and y test as test data \n",
    "test_data=pd.DataFrame()\n",
    "test_data[X_test.columns]=X_test\n",
    "test_data[Y_test.columns]=Y_test\n",
    "test_data['country']= encoder.fit_transform(test_data['country'])\n",
    "test_data.shape"
   ]
  },
  {
   "cell_type": "code",
   "execution_count": 38,
   "metadata": {},
   "outputs": [],
   "source": [
    "# using the function to obtian reshaped x_train,x_test,y_train,y_test\n",
    "x_train,x_test,y_train,y_test=reshape_data(train_data,test_data)"
   ]
  },
  {
   "cell_type": "markdown",
   "metadata": {},
   "source": [
    "# Model \n"
   ]
  },
  {
   "cell_type": "code",
   "execution_count": 188,
   "metadata": {
    "scrolled": true
   },
   "outputs": [
    {
     "name": "stdout",
     "output_type": "stream",
     "text": [
      "Epoch 1/30\n",
      "343489/343489 [==============================] - 24s 70us/step - loss: 0.6791\n",
      "Epoch 2/30\n",
      "343489/343489 [==============================] - 21s 61us/step - loss: 0.5681\n",
      "Epoch 3/30\n",
      "343489/343489 [==============================] - 15s 45us/step - loss: 0.5546\n",
      "Epoch 4/30\n",
      "343489/343489 [==============================] - 16s 48us/step - loss: 0.5419\n",
      "Epoch 5/30\n",
      "343489/343489 [==============================] - 15s 44us/step - loss: 0.5308\n",
      "Epoch 6/30\n",
      "343489/343489 [==============================] - 15s 44us/step - loss: 0.5295\n",
      "Epoch 7/30\n",
      "343489/343489 [==============================] - 16s 46us/step - loss: 0.5176\n",
      "Epoch 8/30\n",
      "343489/343489 [==============================] - 15s 44us/step - loss: 0.5148\n",
      "Epoch 9/30\n",
      "343489/343489 [==============================] - 15s 44us/step - loss: 0.4975\n",
      "Epoch 10/30\n",
      "343489/343489 [==============================] - 15s 44us/step - loss: 0.4922\n",
      "Epoch 11/30\n",
      "343489/343489 [==============================] - 16s 45us/step - loss: 0.5098\n",
      "Epoch 12/30\n",
      "343489/343489 [==============================] - 15s 45us/step - loss: 0.4825\n",
      "Epoch 13/30\n",
      "343489/343489 [==============================] - 15s 45us/step - loss: 0.4951\n",
      "Epoch 14/30\n",
      "343489/343489 [==============================] - 15s 45us/step - loss: 0.4706\n",
      "Epoch 15/30\n",
      "343489/343489 [==============================] - 15s 45us/step - loss: 0.4813\n",
      "Epoch 16/30\n",
      "343489/343489 [==============================] - 15s 45us/step - loss: 0.4671\n",
      "Epoch 17/30\n",
      "343489/343489 [==============================] - 15s 45us/step - loss: 0.4617\n",
      "Epoch 18/30\n",
      "343489/343489 [==============================] - 15s 44us/step - loss: 0.4689\n",
      "Epoch 19/30\n",
      "343489/343489 [==============================] - 15s 45us/step - loss: 0.4822\n",
      "Epoch 20/30\n",
      "343489/343489 [==============================] - 17s 50us/step - loss: 0.4741\n",
      "Epoch 21/30\n",
      "343489/343489 [==============================] - 16s 46us/step - loss: 0.4690\n",
      "Epoch 22/30\n",
      "343489/343489 [==============================] - 16s 46us/step - loss: 0.4732\n",
      "Epoch 23/30\n",
      "343489/343489 [==============================] - 16s 47us/step - loss: 0.4681\n",
      "Epoch 24/30\n",
      "343489/343489 [==============================] - 17s 50us/step - loss: 0.4700\n",
      "Epoch 25/30\n",
      "343489/343489 [==============================] - 15s 45us/step - loss: 0.4678\n",
      "Epoch 26/30\n",
      "343489/343489 [==============================] - 127s 370us/step - loss: 0.4780\n",
      "Epoch 27/30\n",
      "343489/343489 [==============================] - 24s 71us/step - loss: 0.4654\n",
      "Epoch 28/30\n",
      "343489/343489 [==============================] - 16s 48us/step - loss: 0.4653\n",
      "Epoch 29/30\n",
      "343489/343489 [==============================] - 16s 48us/step - loss: 0.4604\n",
      "Epoch 30/30\n",
      "343489/343489 [==============================] - 17s 48us/step - loss: 0.4661\n"
     ]
    }
   ],
   "source": [
    "# design network for confirmed cases data \n",
    "model = Sequential()\n",
    "model.add(LSTM(60, activation='relu',input_shape=(x_train.shape[1], x_train.shape[2])))\n",
    "\n",
    "model.add(Dense(1))\n",
    "model.compile(loss='mae', optimizer='adam')\n",
    "# fit network\n",
    "history = model.fit(x_train, y_train, epochs=30, batch_size=50, verbose=1, shuffle=False)\n"
   ]
  },
  {
   "cell_type": "code",
   "execution_count": 190,
   "metadata": {},
   "outputs": [
    {
     "data": {
      "image/png": "[encoded data removed]",
      "text/plain": [
       "<Figure size 432x288 with 1 Axes>"
      ]
     },
     "metadata": {},
     "output_type": "display_data"
    }
   ],
   "source": [
    "# plot history\n",
    "plt.plot(history.history['loss'], label='Loss')\n",
    "# plt.plot(history.history['val_loss'], label='Validation Loss')\n",
    "plt.legend()\n",
    "plt.show()"
   ]
  },
  {
   "cell_type": "markdown",
   "metadata": {},
   "source": [
    "# Make prediction"
   ]
  },
  {
   "cell_type": "code",
   "execution_count": 191,
   "metadata": {},
   "outputs": [],
   "source": [
    "# make a prediction\n",
    "y_test_pre=model.predict(x_test)"
   ]
  },
  {
   "cell_type": "code",
   "execution_count": 192,
   "metadata": {},
   "outputs": [
    {
     "data": {
      "text/plain": [
       "((85921, 1), (85921,))"
      ]
     },
     "execution_count": 192,
     "metadata": {},
     "output_type": "execute_result"
    }
   ],
   "source": [
    "y_test_pre.shape,y_test.shape"
   ]
  },
  {
   "cell_type": "code",
   "execution_count": 193,
   "metadata": {},
   "outputs": [],
   "source": [
    "# combine scaled data with predicted target\n",
    "df_inverse1=X_test[scaled_df.columns]\n",
    "# inverse test data\n",
    "test_inv_pre=pd.DataFrame(scaler.inverse_transform(df_inverse1))\n",
    "# get the month and day columns\n",
    "month_day=test_inv_pre[[0,1]]\n",
    "# obtian the date\n",
    "import datetime\n",
    "date=[]\n",
    "for i in range(len(month_day)):\n",
    "    d = datetime.datetime(2020, int(month_day[0][i]),int(month_day[1][i])).date()\n",
    "    date.append(d)"
   ]
  },
  {
   "cell_type": "markdown",
   "metadata": {},
   "source": [
    "# Data Evaluation"
   ]
  },
  {
   "cell_type": "code",
   "execution_count": 194,
   "metadata": {},
   "outputs": [
    {
     "data": {
      "text/plain": [
       "(85920, 85920)"
      ]
     },
     "execution_count": 194,
     "metadata": {},
     "output_type": "execute_result"
    }
   ],
   "source": [
    "# a little tricky thing is y_test prediction has one day lag so we need re-match the date \n",
    "len([i[0] for i in y_test_pre][1:]),len(y_test[:-1])  "
   ]
  },
  {
   "cell_type": "code",
   "execution_count": 195,
   "metadata": {
    "scrolled": true
   },
   "outputs": [
    {
     "data": {
      "text/html": [
       "<div>\n",
       "<style scoped>\n",
       "    .dataframe tbody tr th:only-of-type {\n",
       "        vertical-align: middle;\n",
       "    }\n",
       "\n",
       "    .dataframe tbody tr th {\n",
       "        vertical-align: top;\n",
       "    }\n",
       "\n",
       "    .dataframe thead th {\n",
       "        text-align: right;\n",
       "    }\n",
       "</style>\n",
       "<table border=\"1\" class=\"dataframe\">\n",
       "  <thead>\n",
       "    <tr style=\"text-align: right;\">\n",
       "      <th></th>\n",
       "      <th>Date</th>\n",
       "      <th>Prediction</th>\n",
       "      <th>Actual Values</th>\n",
       "    </tr>\n",
       "  </thead>\n",
       "  <tbody>\n",
       "    <tr>\n",
       "      <th>0</th>\n",
       "      <td>2020-05-02</td>\n",
       "      <td>0.000451</td>\n",
       "      <td>0.0</td>\n",
       "    </tr>\n",
       "    <tr>\n",
       "      <th>1</th>\n",
       "      <td>2020-05-03</td>\n",
       "      <td>0.000451</td>\n",
       "      <td>0.0</td>\n",
       "    </tr>\n",
       "    <tr>\n",
       "      <th>2</th>\n",
       "      <td>2020-05-04</td>\n",
       "      <td>0.000451</td>\n",
       "      <td>0.0</td>\n",
       "    </tr>\n",
       "    <tr>\n",
       "      <th>3</th>\n",
       "      <td>2020-05-05</td>\n",
       "      <td>0.000451</td>\n",
       "      <td>0.0</td>\n",
       "    </tr>\n",
       "    <tr>\n",
       "      <th>4</th>\n",
       "      <td>2020-05-06</td>\n",
       "      <td>0.000451</td>\n",
       "      <td>0.0</td>\n",
       "    </tr>\n",
       "  </tbody>\n",
       "</table>\n",
       "</div>"
      ],
      "text/plain": [
       "         Date  Prediction  Actual Values\n",
       "0  2020-05-02    0.000451            0.0\n",
       "1  2020-05-03    0.000451            0.0\n",
       "2  2020-05-04    0.000451            0.0\n",
       "3  2020-05-05    0.000451            0.0\n",
       "4  2020-05-06    0.000451            0.0"
      ]
     },
     "execution_count": 195,
     "metadata": {},
     "output_type": "execute_result"
    }
   ],
   "source": [
    "pa=pd.DataFrame()\n",
    "pa['Date']=date[1:-1]\n",
    "pa['Prediction']=[i[0] for i in y_test_pre][1:] \n",
    "pa['Actual Values']=y_test[:-1]\n",
    "pa.head()"
   ]
  },
  {
   "cell_type": "code",
   "execution_count": 196,
   "metadata": {
    "scrolled": false
   },
   "outputs": [
    {
     "data": {
      "text/plain": [
       "<matplotlib.legend.Legend at 0x1a67b8f190>"
      ]
     },
     "execution_count": 196,
     "metadata": {},
     "output_type": "execute_result"
    },
    {
     "data": {
      "image/png": "[encoded data removed]",
      "text/plain": [
       "<Figure size 1440x720 with 1 Axes>"
      ]
     },
     "metadata": {},
     "output_type": "display_data"
    }
   ],
   "source": [
    "plt.figure(figsize=(20,10))\n",
    "pa.groupby('Date')['Prediction'].sum().plot(kind='line',label='prediction',color='red',alpha=1)\n",
    "pa.groupby(\"Date\")['Actual Values'].sum().plot(kind='line',label='actual values',color='blue',alpha=0.4)\n",
    "plt.xticks(rotation=90,size=20)\n",
    "plt.yticks(size=20)\n",
    "\n",
    "plt.ylabel('Fatalities',fontsize=20)\n",
    "plt.xlabel('Date',fontsize=20)\n",
    "plt.title('Predicted Values VS Acutal Values - Fatalities',fontsize=20)\n",
    "plt.legend()\n"
   ]
  },
  {
   "cell_type": "code",
   "execution_count": 197,
   "metadata": {},
   "outputs": [],
   "source": [
    "from sklearn.metrics import mean_squared_error\n",
    "def RMSE(actual,prediction):\n",
    "    rmse = np.sqrt(mean_squared_error(actual,prediction))\n",
    "    print(rmse)"
   ]
  },
  {
   "cell_type": "code",
   "execution_count": 198,
   "metadata": {},
   "outputs": [
    {
     "name": "stdout",
     "output_type": "stream",
     "text": [
      "13.748094460275327\n"
     ]
    }
   ],
   "source": [
    "RMSE(y_test[:-1],[i[0] for i in y_test_pre][1:])"
   ]
  }
 ],
 "metadata": {
  "kernelspec": {
   "display_name": "Python 3",
   "language": "python",
   "name": "python3"
  },
  "language_info": {
   "codemirror_mode": {
    "name": "ipython",
    "version": 3
   },
   "file_extension": ".py",
   "mimetype": "text/x-python",
   "name": "python",
   "nbconvert_exporter": "python",
   "pygments_lexer": "ipython3",
   "version": "3.7.6"
  },
  "toc": {
   "base_numbering": 1,
   "nav_menu": {},
   "number_sections": true,
   "sideBar": true,
   "skip_h1_title": false,
   "title_cell": "Table of Contents",
   "title_sidebar": "Contents",
   "toc_cell": false,
   "toc_position": {},
   "toc_section_display": true,
   "toc_window_display": false
  }
 },
 "nbformat": 4,
 "nbformat_minor": 4
}
